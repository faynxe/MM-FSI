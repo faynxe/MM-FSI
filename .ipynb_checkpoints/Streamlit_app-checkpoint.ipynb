{
 "cells": [
  {
   "cell_type": "markdown",
   "id": "310963f6-800b-4788-9ae8-ac986fc894cc",
   "metadata": {},
   "source": [
    "This code below generates the appropiate link to enter the streamlit app hosted in SageMaker studio"
   ]
  },
  {
   "cell_type": "code",
   "execution_count": 124,
   "id": "375b1e6f-4c8c-46fb-86cc-b8e3470138a2",
   "metadata": {
    "tags": []
   },
   "outputs": [
    {
     "name": "stdout",
     "output_type": "stream",
     "text": [
      "https://d-9prfvecznucq.studio.us-east-1.sagemaker.aws/jupyter/default/proxy/8508/\n"
     ]
    }
   ],
   "source": [
    "import json\n",
    "port='8508'\n",
    "with open('/opt/ml/metadata/resource-metadata.json') as openfile:\n",
    "        data = json.load(openfile)\n",
    "domain_id = data['DomainId']\n",
    "region=data['ResourceArn'].split(':')[3]\n",
    "print(f'https://{domain_id}.studio.{region}.sagemaker.aws/jupyter/default/proxy/{port}/')"
   ]
  },
  {
   "cell_type": "code",
   "execution_count": null,
   "id": "967485e5-5899-45c6-ac71-f60d5d811bae",
   "metadata": {},
   "outputs": [],
   "source": [
    "import json\n",
    "import boto3\n",
    "import os\n",
    "import logging\n",
    "from http import HTTPStatus\n",
    "\n",
    "AUDIOTRANSCRIPTS_SOURCE_BUCKET= os.getenv(\"AUDIOTRANSCRIPTS_SOURCE_BUCKET\")\n",
    "\n",
    "logger = logging.getLogger()\n",
    "logger.setLevel(logging.INFO)\n",
    "\n",
    "def datachunk(para):\n",
    "    text_list = []\n",
    "    # Deconstruct data into  chunks\n",
    "    while para:\n",
    "        text_list.append(str(para[:4700]))\n",
    "        para = para[4700:]\n",
    "    return text_list[:25]\n",
    "    \n",
    "    \n",
    "def lambda_handler(event, context):\n",
    "    \n",
    "    comprehend = boto3.client(\"comprehend\")\n",
    "    s3_client = boto3.client('s3')\n",
    "    s3_resource = boto3.resource('s3')\n",
    "    keyphases = ['']\n",
    "    try:\n",
    "        # List objects in the bucket\n",
    "        response = s3_client.list_objects_v2(Bucket=AUDIOTRANSCRIPTS_SOURCE_BUCKET)\n",
    "\n",
    "        # Iterate through each object in the bucket\n",
    "        for obj in response['Contents']:\n",
    "            # Get the object key\n",
    "            object_key = obj['Key']\n",
    "\n",
    "            # Retrieve the object\n",
    "            object_response = s3_client.get_object(Bucket=AUDIOTRANSCRIPTS_SOURCE_BUCKET, Key=object_key)\n",
    "\n",
    "            # Get the contents of the object\n",
    "            object_body = object_response['Body'].read().decode(\"utf-8\")\n",
    "            response = comprehend.batch_detect_key_phrases(TextList = datachunk(object_body), LanguageCode = \"en\")\n",
    "            for i in response[\"ResultList\"]:\n",
    "                for j in i[\"KeyPhrases\"] :\n",
    "    \n",
    "                    keyphases.append(j[\"Text\"])\n",
    "    except Exception as e:  # Catch all for easier error tracing in logs\n",
    "            logger.error(e, exc_info=True)\n",
    "            raise Exception('Error occurred during execution')  # notify failure\n",
    "    return {\n",
    "        'statusCode': HTTPStatus.OK.value,\n",
    "        'body': keyphases\n",
    "    }\n"
   ]
  },
  {
   "cell_type": "code",
   "execution_count": 100,
   "id": "b13975a7-4dab-4b74-a5a2-0dc37e469438",
   "metadata": {
    "tags": []
   },
   "outputs": [],
   "source": [
    "event=\"\"\"\n",
    "    Let's first understand the problem and devise a plan to solve the problem. \n",
    "    Please output the plan starting with the header 'Plan:' and then followed by a numbered list of steps. Do not use past conversation history when you are planning the steps.\n",
    "    Please make the plan the minimum number of steps required to accurately complete the task. Do not make redundant steps, you will be charged for every step you make so think cost optimization.\n",
    "      \n",
    "    \"Closing price\" means the most recent stock price of the time period. \n",
    "  \n",
    "    \n",
    "    Alternatively, When you come across values required from income statement, look for values from Annual Income Statement stored in csv format. \n",
    "    \n",
    "    When you plan to find stock information, use \"Stock Querying Tool\" tool, as it provides more accurate and relevant answers. Pay attention to the time period. DO not search for answers on the internet.\n",
    "    \n",
    "    When you need to look up financial information, such as revenue and net income, use Financial Information Lookup Tool. \n",
    "    \n",
    "    When you need to find the key phrases information from quaterly report then use Detect Phrases Tool to get the information about all key phrases and respond with key phrases relavent to the question.\n",
    "\n",
    "    Net income can be net income (profit) or net income (loss). If the value is in parenthesis (), take it as negative value, which means it's a loss. E.g. for (1000), use -1000.\n",
    "\n",
    "    When you need to provide an optimized stock portfolio based on stock names, use Portfolio Optimization Tool. The output is the percent of fund you should spend on each stock.\n",
    "    \n",
    "    If you need to do maths calculations, use PythonREPLTool(). \n",
    "    \n",
    "    When you have a question about calculating a ratio, figure out the formula for the calculation, and find the relevant financial information using the proper tool. Then use PythonREPLTool() tool for calculation.\n",
    "\n",
    "    When you need to analyze sentiment of a topic, use Sentiment Analysis Tool.\n",
    "    \n",
    "    If you can't find the answer, say \"I can't find the answer for this question.\"\n",
    "    \n",
    "    Once you have answers for the question, stop and provide the final answers. The final answers should be a combination of the answers to all the questions, not just the last one.\n",
    "    \n",
    "    Please make sure you have a plan to answer all the questions in the input, not just the last one. \n",
    "    Sometimes the two questions are related, sometimes they are not. So in the end, include the answers for both questions.\n",
    "    Please use these to construct an answer to the question , as though you were answering the question directly. Ensure that your answer is accurate and doesn’t contain any information not directly supported by the summary and quotes.\n",
    "    If there are no data or information in this document that seem relevant to this question, please just say \"I can’t find any relevant quotes\".\n",
    "    Provide all your answers in text format only.\n",
    "    \"\"\""
   ]
  },
  {
   "cell_type": "code",
   "execution_count": 59,
   "id": "de575e23-0ace-45d1-a2aa-21c8ce00f1fa",
   "metadata": {},
   "outputs": [
    {
     "data": {
      "text/plain": [
       "{'Sentiment': 'NEUTRAL',\n",
       " 'SentimentScore': {'Positive': 0.023684943094849586,\n",
       "  'Negative': 0.011460578069090843,\n",
       "  'Neutral': 0.9647089242935181,\n",
       "  'Mixed': 0.0001456448808312416},\n",
       " 'ResponseMetadata': {'RequestId': '0d870130-32f3-49e8-9402-7487a01567c8',\n",
       "  'HTTPStatusCode': 200,\n",
       "  'HTTPHeaders': {'x-amzn-requestid': '0d870130-32f3-49e8-9402-7487a01567c8',\n",
       "   'content-type': 'application/x-amz-json-1.1',\n",
       "   'content-length': '164',\n",
       "   'date': 'Sun, 03 Sep 2023 15:56:06 GMT'},\n",
       "  'RetryAttempts': 0}}"
      ]
     },
     "execution_count": 59,
     "metadata": {},
     "output_type": "execute_result"
    }
   ],
   "source": [
    "import boto3\n",
    "client = boto3.client('comprehend')\n",
    "\n",
    "textInput = json.dumps(event, indent=2)\n",
    "try:\n",
    "    # Call Comprehend to get sentiment of text input\n",
    "    response = client.detect_sentiment(\n",
    "        Text= textInput,\n",
    "        LanguageCode='en'\n",
    "    )\n",
    "\n",
    "except Exception as e:  # Catch all for easier error tracing in logs\n",
    "    logger.error(e, exc_info=True)\n",
    "    raise Exception('Error occurred during execution')  # notify failure\n",
    "response"
   ]
  },
  {
   "cell_type": "code",
   "execution_count": 61,
   "id": "9cbcec46-9af1-4574-a2df-5d9387452eb7",
   "metadata": {
    "tags": []
   },
   "outputs": [
    {
     "data": {
      "text/plain": [
       "{'Sentiment': 'NEUTRAL',\n",
       " 'SentimentScore': {'Positive': 0.023684943094849586,\n",
       "  'Negative': 0.011460578069090843,\n",
       "  'Neutral': 0.9647089242935181,\n",
       "  'Mixed': 0.0001456448808312416}}"
      ]
     },
     "execution_count": 61,
     "metadata": {},
     "output_type": "execute_result"
    }
   ],
   "source": [
    "responses={'Sentiment':response['Sentiment'],\n",
    "           'SentimentScore': response['SentimentScore']}\n",
    "responses"
   ]
  },
  {
   "cell_type": "code",
   "execution_count": 127,
   "id": "ef914ce3-c1da-45f5-b7ae-a31f0063253b",
   "metadata": {
    "tags": []
   },
   "outputs": [
    {
     "name": "stdout",
     "output_type": "stream",
     "text": [
      "I am a rich man and happy man\n"
     ]
    },
    {
     "data": {
      "text/plain": [
       "{'Sentiment': 'POSITIVE',\n",
       " 'SentimentScore': {'Positive': 0.8954164385795593,\n",
       "  'Negative': 0.002675161464139819,\n",
       "  'Neutral': 0.09656240046024323,\n",
       "  'Mixed': 0.0053459955379366875}}"
      ]
     },
     "execution_count": 127,
     "metadata": {},
     "output_type": "execute_result"
    }
   ],
   "source": [
    "def SentimentAnalysis(inputString):\n",
    "    print(inputString)\n",
    "    lambda_client = boto3.client('lambda', region_name='us-east-2')\n",
    "    lambda_payload = {\"inputString:\"+inputString}\n",
    "    response=lambda_client.invoke(FunctionName='FSI-SentimentDetecttion',\n",
    "                        InvocationType='RequestResponse',\n",
    "                     Payload=json.dumps(inputString))\n",
    "    #print(response['Payload'].read())\n",
    "    output=json.loads(response['Payload'].read().decode())\n",
    "    return output['body']\n",
    "SentimentAnalysis(\"I am a rich man and happy man\")"
   ]
  },
  {
   "cell_type": "code",
   "execution_count": null,
   "id": "23354291-d170-4913-99de-5d5cfe04adb9",
   "metadata": {},
   "outputs": [],
   "source": []
  },
  {
   "cell_type": "code",
   "execution_count": 122,
   "id": "a89343d7-3c40-42d4-bf29-a6719cf6e37b",
   "metadata": {
    "tags": []
   },
   "outputs": [],
   "source": [
    "def DetectKeyPhrases(inputString):\n",
    "    #print(inputString)\n",
    "    lambda_client = boto3.client('lambda', region_name='us-east-2')\n",
    "    lambda_payload = {\"inputString:\"+inputString}\n",
    "    response=lambda_client.invoke(FunctionName='FSI-KeyPhrasesDetection',\n",
    "                        InvocationType='RequestResponse',\n",
    "                     Payload=json.dumps(inputString))\n",
    "    #print(response['Payload'].read())\n",
    "    output=json.loads(response['Payload'].read().decode())\n",
    "    return output['body']\n"
   ]
  },
  {
   "cell_type": "code",
   "execution_count": 115,
   "id": "447c1012-3591-49ae-9ff0-362e039db872",
   "metadata": {
    "tags": []
   },
   "outputs": [
    {
     "ename": "KeyError",
     "evalue": "'Payload'",
     "output_type": "error",
     "traceback": [
      "\u001b[0;31m---------------------------------------------------------------------------\u001b[0m",
      "\u001b[0;31mKeyError\u001b[0m                                  Traceback (most recent call last)",
      "Cell \u001b[0;32mIn[115], line 1\u001b[0m\n\u001b[0;32m----> 1\u001b[0m \u001b[43mresponse\u001b[49m\u001b[43m[\u001b[49m\u001b[38;5;124;43m'\u001b[39;49m\u001b[38;5;124;43mPayload\u001b[39;49m\u001b[38;5;124;43m'\u001b[39;49m\u001b[43m]\u001b[49m\u001b[38;5;241m.\u001b[39mread()\n",
      "\u001b[0;31mKeyError\u001b[0m: 'Payload'"
     ]
    }
   ],
   "source": [
    "response['Payload'].read()"
   ]
  },
  {
   "cell_type": "code",
   "execution_count": 123,
   "id": "0ab0c12b-1fad-4ce4-a51a-6177113cf9ad",
   "metadata": {
    "tags": []
   },
   "outputs": [
    {
     "data": {
      "text/plain": [
       "['two relevant excerpts',\n",
       " 'Amazon',\n",
       " 'latest annual report',\n",
       " 'the biggest risks',\n",
       " 'the company',\n",
       " 'our culture',\n",
       " 'customer obsession',\n",
       " 'our most sustainable competitive advantage',\n",
       " 'intense competition',\n",
       " 'our product and service offerings',\n",
       " 'our current and potential competitors',\n",
       " 'greater resources',\n",
       " 'longer histories',\n",
       " 'more customers',\n",
       " 'greater brand recognition',\n",
       " 'greater control',\n",
       " 'inputs',\n",
       " 'our various businesses',\n",
       " 'better terms',\n",
       " 'suppliers',\n",
       " 'more aggressive pricing',\n",
       " 'market share',\n",
       " 'restrictive distribution agreements',\n",
       " 'our access',\n",
       " 'supply and distribution channels',\n",
       " 'lock-in customers',\n",
       " 'exclusivity or loyalty programs',\n",
       " 'more resources',\n",
       " 'technology, infrastructure, fulfillment, and marketing',\n",
       " 'our continued expansion',\n",
       " 'new products',\n",
       " 'services',\n",
       " 'technologies',\n",
       " 'geographies',\n",
       " 'new competitors',\n",
       " 'data loss',\n",
       " 'other security breaches',\n",
       " 'cyber-attacks',\n",
       " 'a result',\n",
       " 'our services',\n",
       " 'the fact']"
      ]
     },
     "execution_count": 123,
     "metadata": {},
     "output_type": "execute_result"
    }
   ],
   "source": [
    "DetectKeyPhrases(Text)"
   ]
  },
  {
   "cell_type": "code",
   "execution_count": 109,
   "id": "c1c93224-9dc0-4fe1-9b81-f38737eae8be",
   "metadata": {
    "tags": []
   },
   "outputs": [],
   "source": [
    "client=boto3.client('comprehend')\n",
    "response = client.detect_key_phrases(\n",
    "    Text=Text,\n",
    "    LanguageCode='en'\n",
    ")"
   ]
  },
  {
   "cell_type": "code",
   "execution_count": 110,
   "id": "68b382b3-3ba3-4868-afe7-b2962f9f35a0",
   "metadata": {
    "tags": []
   },
   "outputs": [
    {
     "data": {
      "text/plain": [
       "['two relevant excerpts',\n",
       " 'Amazon',\n",
       " 'latest annual report',\n",
       " 'the biggest risks',\n",
       " 'the company',\n",
       " 'our culture',\n",
       " 'customer obsession',\n",
       " 'our most sustainable competitive advantage',\n",
       " 'intense competition',\n",
       " 'our product and service offerings',\n",
       " 'our current and potential competitors',\n",
       " 'greater resources',\n",
       " 'longer histories',\n",
       " 'more customers',\n",
       " 'greater brand recognition',\n",
       " 'greater control',\n",
       " 'inputs',\n",
       " 'our various businesses',\n",
       " 'better terms',\n",
       " 'suppliers',\n",
       " 'more aggressive pricing',\n",
       " 'market share',\n",
       " 'restrictive distribution agreements',\n",
       " 'our access',\n",
       " 'supply and distribution channels',\n",
       " 'lock-in customers',\n",
       " 'exclusivity or loyalty programs',\n",
       " 'more resources',\n",
       " 'technology, infrastructure, fulfillment, and marketing',\n",
       " 'our continued expansion',\n",
       " 'new products',\n",
       " 'services',\n",
       " 'technologies',\n",
       " 'geographies',\n",
       " 'new competitors',\n",
       " 'data loss',\n",
       " 'other security breaches',\n",
       " 'cyber-attacks',\n",
       " 'a result',\n",
       " 'our services',\n",
       " 'the fact']"
      ]
     },
     "execution_count": 110,
     "metadata": {},
     "output_type": "execute_result"
    }
   ],
   "source": [
    "[x['Text'] for x in response['KeyPhrases']]"
   ]
  },
  {
   "cell_type": "code",
   "execution_count": 103,
   "id": "31351724-d9cb-419b-99e2-dec7f67c27ca",
   "metadata": {
    "tags": []
   },
   "outputs": [
    {
     "data": {
      "text/plain": [
       "'\"Here are two relevant excerpts from Amazon\\'s latest annual report discussing the biggest risks facing the company:\\\\n\\\\n\\\\\"We believe that our culture of customer obsession is our most sustainable competitive advantage. However, we face intense competition across all of our product and service offerings. Many of our current and potential competitors have greater resources, longer histories, more customers, greater brand recognition, and greater control over inputs critical to our various businesses. They may secure better terms from suppliers, adopt more aggressive pricing to grow market share, pursue restrictive distribution agreements that restrict our access to supply and distribution channels, lock-in customers through exclusivity or loyalty programs, or devote more resources to technology, infrastructure, fulfillment, and marketing. We also expect our continued expansion into new products, services, technologies, and geographies to subject us to new competitors.\\\\\"\\\\n\\\\n\\\\\"We could be harmed by data loss or other security breaches, including cyber-attacks. As a result of our services being web-based and the fact that we\"'"
      ]
     },
     "execution_count": 103,
     "metadata": {},
     "output_type": "execute_result"
    }
   ],
   "source": [
    "Text='''Here are two relevant excerpts from Amazon's latest annual report discussing the biggest risks facing the company:\n",
    "\n",
    "\"We believe that our culture of customer obsession is our most sustainable competitive advantage. However, we face intense competition across all of our product and service offerings. Many of our current and potential competitors have greater resources, longer histories, more customers, greater brand recognition, and greater control over inputs critical to our various businesses. They may secure better terms from suppliers, adopt more aggressive pricing to grow market share, pursue restrictive distribution agreements that restrict our access to supply and distribution channels, lock-in customers through exclusivity or loyalty programs, or devote more resources to technology, infrastructure, fulfillment, and marketing. We also expect our continued expansion into new products, services, technologies, and geographies to subject us to new competitors.\"\n",
    "\n",
    "\"We could be harmed by data loss or other security breaches, including cyber-attacks. As a result of our services being web-based and the fact that we'''\n",
    "json.dumps(Text, indent=2)"
   ]
  },
  {
   "cell_type": "code",
   "execution_count": null,
   "id": "0db5c165-aefb-4dbc-86db-eb29922fcf8d",
   "metadata": {},
   "outputs": [],
   "source": []
  }
 ],
 "metadata": {
  "availableInstances": [
   {
    "_defaultOrder": 0,
    "_isFastLaunch": true,
    "category": "General purpose",
    "gpuNum": 0,
    "hideHardwareSpecs": false,
    "memoryGiB": 4,
    "name": "ml.t3.medium",
    "vcpuNum": 2
   },
   {
    "_defaultOrder": 1,
    "_isFastLaunch": false,
    "category": "General purpose",
    "gpuNum": 0,
    "hideHardwareSpecs": false,
    "memoryGiB": 8,
    "name": "ml.t3.large",
    "vcpuNum": 2
   },
   {
    "_defaultOrder": 2,
    "_isFastLaunch": false,
    "category": "General purpose",
    "gpuNum": 0,
    "hideHardwareSpecs": false,
    "memoryGiB": 16,
    "name": "ml.t3.xlarge",
    "vcpuNum": 4
   },
   {
    "_defaultOrder": 3,
    "_isFastLaunch": false,
    "category": "General purpose",
    "gpuNum": 0,
    "hideHardwareSpecs": false,
    "memoryGiB": 32,
    "name": "ml.t3.2xlarge",
    "vcpuNum": 8
   },
   {
    "_defaultOrder": 4,
    "_isFastLaunch": true,
    "category": "General purpose",
    "gpuNum": 0,
    "hideHardwareSpecs": false,
    "memoryGiB": 8,
    "name": "ml.m5.large",
    "vcpuNum": 2
   },
   {
    "_defaultOrder": 5,
    "_isFastLaunch": false,
    "category": "General purpose",
    "gpuNum": 0,
    "hideHardwareSpecs": false,
    "memoryGiB": 16,
    "name": "ml.m5.xlarge",
    "vcpuNum": 4
   },
   {
    "_defaultOrder": 6,
    "_isFastLaunch": false,
    "category": "General purpose",
    "gpuNum": 0,
    "hideHardwareSpecs": false,
    "memoryGiB": 32,
    "name": "ml.m5.2xlarge",
    "vcpuNum": 8
   },
   {
    "_defaultOrder": 7,
    "_isFastLaunch": false,
    "category": "General purpose",
    "gpuNum": 0,
    "hideHardwareSpecs": false,
    "memoryGiB": 64,
    "name": "ml.m5.4xlarge",
    "vcpuNum": 16
   },
   {
    "_defaultOrder": 8,
    "_isFastLaunch": false,
    "category": "General purpose",
    "gpuNum": 0,
    "hideHardwareSpecs": false,
    "memoryGiB": 128,
    "name": "ml.m5.8xlarge",
    "vcpuNum": 32
   },
   {
    "_defaultOrder": 9,
    "_isFastLaunch": false,
    "category": "General purpose",
    "gpuNum": 0,
    "hideHardwareSpecs": false,
    "memoryGiB": 192,
    "name": "ml.m5.12xlarge",
    "vcpuNum": 48
   },
   {
    "_defaultOrder": 10,
    "_isFastLaunch": false,
    "category": "General purpose",
    "gpuNum": 0,
    "hideHardwareSpecs": false,
    "memoryGiB": 256,
    "name": "ml.m5.16xlarge",
    "vcpuNum": 64
   },
   {
    "_defaultOrder": 11,
    "_isFastLaunch": false,
    "category": "General purpose",
    "gpuNum": 0,
    "hideHardwareSpecs": false,
    "memoryGiB": 384,
    "name": "ml.m5.24xlarge",
    "vcpuNum": 96
   },
   {
    "_defaultOrder": 12,
    "_isFastLaunch": false,
    "category": "General purpose",
    "gpuNum": 0,
    "hideHardwareSpecs": false,
    "memoryGiB": 8,
    "name": "ml.m5d.large",
    "vcpuNum": 2
   },
   {
    "_defaultOrder": 13,
    "_isFastLaunch": false,
    "category": "General purpose",
    "gpuNum": 0,
    "hideHardwareSpecs": false,
    "memoryGiB": 16,
    "name": "ml.m5d.xlarge",
    "vcpuNum": 4
   },
   {
    "_defaultOrder": 14,
    "_isFastLaunch": false,
    "category": "General purpose",
    "gpuNum": 0,
    "hideHardwareSpecs": false,
    "memoryGiB": 32,
    "name": "ml.m5d.2xlarge",
    "vcpuNum": 8
   },
   {
    "_defaultOrder": 15,
    "_isFastLaunch": false,
    "category": "General purpose",
    "gpuNum": 0,
    "hideHardwareSpecs": false,
    "memoryGiB": 64,
    "name": "ml.m5d.4xlarge",
    "vcpuNum": 16
   },
   {
    "_defaultOrder": 16,
    "_isFastLaunch": false,
    "category": "General purpose",
    "gpuNum": 0,
    "hideHardwareSpecs": false,
    "memoryGiB": 128,
    "name": "ml.m5d.8xlarge",
    "vcpuNum": 32
   },
   {
    "_defaultOrder": 17,
    "_isFastLaunch": false,
    "category": "General purpose",
    "gpuNum": 0,
    "hideHardwareSpecs": false,
    "memoryGiB": 192,
    "name": "ml.m5d.12xlarge",
    "vcpuNum": 48
   },
   {
    "_defaultOrder": 18,
    "_isFastLaunch": false,
    "category": "General purpose",
    "gpuNum": 0,
    "hideHardwareSpecs": false,
    "memoryGiB": 256,
    "name": "ml.m5d.16xlarge",
    "vcpuNum": 64
   },
   {
    "_defaultOrder": 19,
    "_isFastLaunch": false,
    "category": "General purpose",
    "gpuNum": 0,
    "hideHardwareSpecs": false,
    "memoryGiB": 384,
    "name": "ml.m5d.24xlarge",
    "vcpuNum": 96
   },
   {
    "_defaultOrder": 20,
    "_isFastLaunch": false,
    "category": "General purpose",
    "gpuNum": 0,
    "hideHardwareSpecs": true,
    "memoryGiB": 0,
    "name": "ml.geospatial.interactive",
    "supportedImageNames": [
     "sagemaker-geospatial-v1-0"
    ],
    "vcpuNum": 0
   },
   {
    "_defaultOrder": 21,
    "_isFastLaunch": true,
    "category": "Compute optimized",
    "gpuNum": 0,
    "hideHardwareSpecs": false,
    "memoryGiB": 4,
    "name": "ml.c5.large",
    "vcpuNum": 2
   },
   {
    "_defaultOrder": 22,
    "_isFastLaunch": false,
    "category": "Compute optimized",
    "gpuNum": 0,
    "hideHardwareSpecs": false,
    "memoryGiB": 8,
    "name": "ml.c5.xlarge",
    "vcpuNum": 4
   },
   {
    "_defaultOrder": 23,
    "_isFastLaunch": false,
    "category": "Compute optimized",
    "gpuNum": 0,
    "hideHardwareSpecs": false,
    "memoryGiB": 16,
    "name": "ml.c5.2xlarge",
    "vcpuNum": 8
   },
   {
    "_defaultOrder": 24,
    "_isFastLaunch": false,
    "category": "Compute optimized",
    "gpuNum": 0,
    "hideHardwareSpecs": false,
    "memoryGiB": 32,
    "name": "ml.c5.4xlarge",
    "vcpuNum": 16
   },
   {
    "_defaultOrder": 25,
    "_isFastLaunch": false,
    "category": "Compute optimized",
    "gpuNum": 0,
    "hideHardwareSpecs": false,
    "memoryGiB": 72,
    "name": "ml.c5.9xlarge",
    "vcpuNum": 36
   },
   {
    "_defaultOrder": 26,
    "_isFastLaunch": false,
    "category": "Compute optimized",
    "gpuNum": 0,
    "hideHardwareSpecs": false,
    "memoryGiB": 96,
    "name": "ml.c5.12xlarge",
    "vcpuNum": 48
   },
   {
    "_defaultOrder": 27,
    "_isFastLaunch": false,
    "category": "Compute optimized",
    "gpuNum": 0,
    "hideHardwareSpecs": false,
    "memoryGiB": 144,
    "name": "ml.c5.18xlarge",
    "vcpuNum": 72
   },
   {
    "_defaultOrder": 28,
    "_isFastLaunch": false,
    "category": "Compute optimized",
    "gpuNum": 0,
    "hideHardwareSpecs": false,
    "memoryGiB": 192,
    "name": "ml.c5.24xlarge",
    "vcpuNum": 96
   },
   {
    "_defaultOrder": 29,
    "_isFastLaunch": true,
    "category": "Accelerated computing",
    "gpuNum": 1,
    "hideHardwareSpecs": false,
    "memoryGiB": 16,
    "name": "ml.g4dn.xlarge",
    "vcpuNum": 4
   },
   {
    "_defaultOrder": 30,
    "_isFastLaunch": false,
    "category": "Accelerated computing",
    "gpuNum": 1,
    "hideHardwareSpecs": false,
    "memoryGiB": 32,
    "name": "ml.g4dn.2xlarge",
    "vcpuNum": 8
   },
   {
    "_defaultOrder": 31,
    "_isFastLaunch": false,
    "category": "Accelerated computing",
    "gpuNum": 1,
    "hideHardwareSpecs": false,
    "memoryGiB": 64,
    "name": "ml.g4dn.4xlarge",
    "vcpuNum": 16
   },
   {
    "_defaultOrder": 32,
    "_isFastLaunch": false,
    "category": "Accelerated computing",
    "gpuNum": 1,
    "hideHardwareSpecs": false,
    "memoryGiB": 128,
    "name": "ml.g4dn.8xlarge",
    "vcpuNum": 32
   },
   {
    "_defaultOrder": 33,
    "_isFastLaunch": false,
    "category": "Accelerated computing",
    "gpuNum": 4,
    "hideHardwareSpecs": false,
    "memoryGiB": 192,
    "name": "ml.g4dn.12xlarge",
    "vcpuNum": 48
   },
   {
    "_defaultOrder": 34,
    "_isFastLaunch": false,
    "category": "Accelerated computing",
    "gpuNum": 1,
    "hideHardwareSpecs": false,
    "memoryGiB": 256,
    "name": "ml.g4dn.16xlarge",
    "vcpuNum": 64
   },
   {
    "_defaultOrder": 35,
    "_isFastLaunch": false,
    "category": "Accelerated computing",
    "gpuNum": 1,
    "hideHardwareSpecs": false,
    "memoryGiB": 61,
    "name": "ml.p3.2xlarge",
    "vcpuNum": 8
   },
   {
    "_defaultOrder": 36,
    "_isFastLaunch": false,
    "category": "Accelerated computing",
    "gpuNum": 4,
    "hideHardwareSpecs": false,
    "memoryGiB": 244,
    "name": "ml.p3.8xlarge",
    "vcpuNum": 32
   },
   {
    "_defaultOrder": 37,
    "_isFastLaunch": false,
    "category": "Accelerated computing",
    "gpuNum": 8,
    "hideHardwareSpecs": false,
    "memoryGiB": 488,
    "name": "ml.p3.16xlarge",
    "vcpuNum": 64
   },
   {
    "_defaultOrder": 38,
    "_isFastLaunch": false,
    "category": "Accelerated computing",
    "gpuNum": 8,
    "hideHardwareSpecs": false,
    "memoryGiB": 768,
    "name": "ml.p3dn.24xlarge",
    "vcpuNum": 96
   },
   {
    "_defaultOrder": 39,
    "_isFastLaunch": false,
    "category": "Memory Optimized",
    "gpuNum": 0,
    "hideHardwareSpecs": false,
    "memoryGiB": 16,
    "name": "ml.r5.large",
    "vcpuNum": 2
   },
   {
    "_defaultOrder": 40,
    "_isFastLaunch": false,
    "category": "Memory Optimized",
    "gpuNum": 0,
    "hideHardwareSpecs": false,
    "memoryGiB": 32,
    "name": "ml.r5.xlarge",
    "vcpuNum": 4
   },
   {
    "_defaultOrder": 41,
    "_isFastLaunch": false,
    "category": "Memory Optimized",
    "gpuNum": 0,
    "hideHardwareSpecs": false,
    "memoryGiB": 64,
    "name": "ml.r5.2xlarge",
    "vcpuNum": 8
   },
   {
    "_defaultOrder": 42,
    "_isFastLaunch": false,
    "category": "Memory Optimized",
    "gpuNum": 0,
    "hideHardwareSpecs": false,
    "memoryGiB": 128,
    "name": "ml.r5.4xlarge",
    "vcpuNum": 16
   },
   {
    "_defaultOrder": 43,
    "_isFastLaunch": false,
    "category": "Memory Optimized",
    "gpuNum": 0,
    "hideHardwareSpecs": false,
    "memoryGiB": 256,
    "name": "ml.r5.8xlarge",
    "vcpuNum": 32
   },
   {
    "_defaultOrder": 44,
    "_isFastLaunch": false,
    "category": "Memory Optimized",
    "gpuNum": 0,
    "hideHardwareSpecs": false,
    "memoryGiB": 384,
    "name": "ml.r5.12xlarge",
    "vcpuNum": 48
   },
   {
    "_defaultOrder": 45,
    "_isFastLaunch": false,
    "category": "Memory Optimized",
    "gpuNum": 0,
    "hideHardwareSpecs": false,
    "memoryGiB": 512,
    "name": "ml.r5.16xlarge",
    "vcpuNum": 64
   },
   {
    "_defaultOrder": 46,
    "_isFastLaunch": false,
    "category": "Memory Optimized",
    "gpuNum": 0,
    "hideHardwareSpecs": false,
    "memoryGiB": 768,
    "name": "ml.r5.24xlarge",
    "vcpuNum": 96
   },
   {
    "_defaultOrder": 47,
    "_isFastLaunch": false,
    "category": "Accelerated computing",
    "gpuNum": 1,
    "hideHardwareSpecs": false,
    "memoryGiB": 16,
    "name": "ml.g5.xlarge",
    "vcpuNum": 4
   },
   {
    "_defaultOrder": 48,
    "_isFastLaunch": false,
    "category": "Accelerated computing",
    "gpuNum": 1,
    "hideHardwareSpecs": false,
    "memoryGiB": 32,
    "name": "ml.g5.2xlarge",
    "vcpuNum": 8
   },
   {
    "_defaultOrder": 49,
    "_isFastLaunch": false,
    "category": "Accelerated computing",
    "gpuNum": 1,
    "hideHardwareSpecs": false,
    "memoryGiB": 64,
    "name": "ml.g5.4xlarge",
    "vcpuNum": 16
   },
   {
    "_defaultOrder": 50,
    "_isFastLaunch": false,
    "category": "Accelerated computing",
    "gpuNum": 1,
    "hideHardwareSpecs": false,
    "memoryGiB": 128,
    "name": "ml.g5.8xlarge",
    "vcpuNum": 32
   },
   {
    "_defaultOrder": 51,
    "_isFastLaunch": false,
    "category": "Accelerated computing",
    "gpuNum": 1,
    "hideHardwareSpecs": false,
    "memoryGiB": 256,
    "name": "ml.g5.16xlarge",
    "vcpuNum": 64
   },
   {
    "_defaultOrder": 52,
    "_isFastLaunch": false,
    "category": "Accelerated computing",
    "gpuNum": 4,
    "hideHardwareSpecs": false,
    "memoryGiB": 192,
    "name": "ml.g5.12xlarge",
    "vcpuNum": 48
   },
   {
    "_defaultOrder": 53,
    "_isFastLaunch": false,
    "category": "Accelerated computing",
    "gpuNum": 4,
    "hideHardwareSpecs": false,
    "memoryGiB": 384,
    "name": "ml.g5.24xlarge",
    "vcpuNum": 96
   },
   {
    "_defaultOrder": 54,
    "_isFastLaunch": false,
    "category": "Accelerated computing",
    "gpuNum": 8,
    "hideHardwareSpecs": false,
    "memoryGiB": 768,
    "name": "ml.g5.48xlarge",
    "vcpuNum": 192
   },
   {
    "_defaultOrder": 55,
    "_isFastLaunch": false,
    "category": "Accelerated computing",
    "gpuNum": 8,
    "hideHardwareSpecs": false,
    "memoryGiB": 1152,
    "name": "ml.p4d.24xlarge",
    "vcpuNum": 96
   },
   {
    "_defaultOrder": 56,
    "_isFastLaunch": false,
    "category": "Accelerated computing",
    "gpuNum": 8,
    "hideHardwareSpecs": false,
    "memoryGiB": 1152,
    "name": "ml.p4de.24xlarge",
    "vcpuNum": 96
   }
  ],
  "instance_type": "ml.t3.medium",
  "kernelspec": {
   "display_name": "Python 3 (Data Science 3.0)",
   "language": "python",
   "name": "python3__SAGEMAKER_INTERNAL__arn:aws:sagemaker:us-east-1:081325390199:image/sagemaker-data-science-310-v1"
  },
  "language_info": {
   "codemirror_mode": {
    "name": "ipython",
    "version": 3
   },
   "file_extension": ".py",
   "mimetype": "text/x-python",
   "name": "python",
   "nbconvert_exporter": "python",
   "pygments_lexer": "ipython3",
   "version": "3.10.6"
  }
 },
 "nbformat": 4,
 "nbformat_minor": 5
}
